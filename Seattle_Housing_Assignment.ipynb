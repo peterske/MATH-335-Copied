{
  "nbformat": 4,
  "nbformat_minor": 0,
  "metadata": {
    "colab": {
      "provenance": [],
      "include_colab_link": true
    },
    "kernelspec": {
      "name": "python3",
      "display_name": "Python 3"
    },
    "language_info": {
      "name": "python"
    }
  },
  "cells": [
    {
      "cell_type": "markdown",
      "metadata": {
        "id": "view-in-github",
        "colab_type": "text"
      },
      "source": [
        "<a href=\"https://colab.research.google.com/github/peterske/MATH-335-Copied/blob/main/Seattle_Housing_Assignment.ipynb\" target=\"_parent\"><img src=\"https://colab.research.google.com/assets/colab-badge.svg\" alt=\"Open In Colab\"/></a>"
      ]
    },
    {
      "cell_type": "code",
      "execution_count": null,
      "metadata": {
        "id": "WugdDyazSrDU"
      },
      "outputs": [],
      "source": [
        "# Import Libraries\n",
        "import pandas as pd\n",
        "from xgboost import XGBRegressor\n",
        "from sklearn.model_selection import train_test_split"
      ]
    },
    {
      "cell_type": "code",
      "source": [
        "test_mini = True\n",
        "\n",
        "# Get Data\n",
        "data = pd.read_csv('https://raw.githubusercontent.com/byui-cse/cse450-course/master/data/housing.csv')\n",
        "\n",
        "mini_data = None\n",
        "if test_mini:\n",
        "  mini_data = pd.read_csv('https://raw.githubusercontent.com/byui-cse/cse450-course/master/data/housing_holdout_test.csv')\n",
        "\n",
        "data.head()"
      ],
      "metadata": {
        "colab": {
          "base_uri": "https://localhost:8080/",
          "height": 300
        },
        "id": "-ZilijDQTs3L",
        "outputId": "12ea5b4e-0898-43d8-a871-77bc49c611ff"
      },
      "execution_count": null,
      "outputs": [
        {
          "output_type": "execute_result",
          "data": {
            "text/plain": [
              "           id             date  bedrooms  bathrooms  sqft_living  sqft_lot  \\\n",
              "0  1565930130  20141104T000000         4       3.25         3760      4675   \n",
              "1  3279000420  20150115T000000         3       1.75         1460      7800   \n",
              "2   194000575  20141014T000000         4       1.00         1340      5800   \n",
              "3  2115510160  20141208T000000         3       1.75         1440      8050   \n",
              "4  7522500005  20140815T000000         2       1.50         1780      4750   \n",
              "\n",
              "   floors  waterfront  view  condition  ...  sqft_above  sqft_basement  \\\n",
              "0     2.0           0     0          3  ...        2740           1020   \n",
              "1     1.0           0     0          2  ...        1040            420   \n",
              "2     1.5           0     2          3  ...        1340              0   \n",
              "3     1.0           0     0          3  ...        1440              0   \n",
              "4     1.0           0     0          4  ...        1080            700   \n",
              "\n",
              "   yr_built  yr_renovated  zipcode      lat     long  sqft_living15  \\\n",
              "0      2007             0    98038  47.3862 -122.048           3280   \n",
              "1      1979             0    98023  47.3035 -122.382           1310   \n",
              "2      1914             0    98116  47.5658 -122.389           1900   \n",
              "3      1985             0    98023  47.3187 -122.390           1790   \n",
              "4      1947             0    98117  47.6859 -122.395           1690   \n",
              "\n",
              "   sqft_lot15     price  \n",
              "0        4033  429900.0  \n",
              "1        7865  233000.0  \n",
              "2        5800  455000.0  \n",
              "3        7488  258950.0  \n",
              "4        5962  555000.0  \n",
              "\n",
              "[5 rows x 21 columns]"
            ],
            "text/html": [
              "\n",
              "  <div id=\"df-7e4e2cb4-688e-4d09-a2db-c85d8fef393f\">\n",
              "    <div class=\"colab-df-container\">\n",
              "      <div>\n",
              "<style scoped>\n",
              "    .dataframe tbody tr th:only-of-type {\n",
              "        vertical-align: middle;\n",
              "    }\n",
              "\n",
              "    .dataframe tbody tr th {\n",
              "        vertical-align: top;\n",
              "    }\n",
              "\n",
              "    .dataframe thead th {\n",
              "        text-align: right;\n",
              "    }\n",
              "</style>\n",
              "<table border=\"1\" class=\"dataframe\">\n",
              "  <thead>\n",
              "    <tr style=\"text-align: right;\">\n",
              "      <th></th>\n",
              "      <th>id</th>\n",
              "      <th>date</th>\n",
              "      <th>bedrooms</th>\n",
              "      <th>bathrooms</th>\n",
              "      <th>sqft_living</th>\n",
              "      <th>sqft_lot</th>\n",
              "      <th>floors</th>\n",
              "      <th>waterfront</th>\n",
              "      <th>view</th>\n",
              "      <th>condition</th>\n",
              "      <th>...</th>\n",
              "      <th>sqft_above</th>\n",
              "      <th>sqft_basement</th>\n",
              "      <th>yr_built</th>\n",
              "      <th>yr_renovated</th>\n",
              "      <th>zipcode</th>\n",
              "      <th>lat</th>\n",
              "      <th>long</th>\n",
              "      <th>sqft_living15</th>\n",
              "      <th>sqft_lot15</th>\n",
              "      <th>price</th>\n",
              "    </tr>\n",
              "  </thead>\n",
              "  <tbody>\n",
              "    <tr>\n",
              "      <th>0</th>\n",
              "      <td>1565930130</td>\n",
              "      <td>20141104T000000</td>\n",
              "      <td>4</td>\n",
              "      <td>3.25</td>\n",
              "      <td>3760</td>\n",
              "      <td>4675</td>\n",
              "      <td>2.0</td>\n",
              "      <td>0</td>\n",
              "      <td>0</td>\n",
              "      <td>3</td>\n",
              "      <td>...</td>\n",
              "      <td>2740</td>\n",
              "      <td>1020</td>\n",
              "      <td>2007</td>\n",
              "      <td>0</td>\n",
              "      <td>98038</td>\n",
              "      <td>47.3862</td>\n",
              "      <td>-122.048</td>\n",
              "      <td>3280</td>\n",
              "      <td>4033</td>\n",
              "      <td>429900.0</td>\n",
              "    </tr>\n",
              "    <tr>\n",
              "      <th>1</th>\n",
              "      <td>3279000420</td>\n",
              "      <td>20150115T000000</td>\n",
              "      <td>3</td>\n",
              "      <td>1.75</td>\n",
              "      <td>1460</td>\n",
              "      <td>7800</td>\n",
              "      <td>1.0</td>\n",
              "      <td>0</td>\n",
              "      <td>0</td>\n",
              "      <td>2</td>\n",
              "      <td>...</td>\n",
              "      <td>1040</td>\n",
              "      <td>420</td>\n",
              "      <td>1979</td>\n",
              "      <td>0</td>\n",
              "      <td>98023</td>\n",
              "      <td>47.3035</td>\n",
              "      <td>-122.382</td>\n",
              "      <td>1310</td>\n",
              "      <td>7865</td>\n",
              "      <td>233000.0</td>\n",
              "    </tr>\n",
              "    <tr>\n",
              "      <th>2</th>\n",
              "      <td>194000575</td>\n",
              "      <td>20141014T000000</td>\n",
              "      <td>4</td>\n",
              "      <td>1.00</td>\n",
              "      <td>1340</td>\n",
              "      <td>5800</td>\n",
              "      <td>1.5</td>\n",
              "      <td>0</td>\n",
              "      <td>2</td>\n",
              "      <td>3</td>\n",
              "      <td>...</td>\n",
              "      <td>1340</td>\n",
              "      <td>0</td>\n",
              "      <td>1914</td>\n",
              "      <td>0</td>\n",
              "      <td>98116</td>\n",
              "      <td>47.5658</td>\n",
              "      <td>-122.389</td>\n",
              "      <td>1900</td>\n",
              "      <td>5800</td>\n",
              "      <td>455000.0</td>\n",
              "    </tr>\n",
              "    <tr>\n",
              "      <th>3</th>\n",
              "      <td>2115510160</td>\n",
              "      <td>20141208T000000</td>\n",
              "      <td>3</td>\n",
              "      <td>1.75</td>\n",
              "      <td>1440</td>\n",
              "      <td>8050</td>\n",
              "      <td>1.0</td>\n",
              "      <td>0</td>\n",
              "      <td>0</td>\n",
              "      <td>3</td>\n",
              "      <td>...</td>\n",
              "      <td>1440</td>\n",
              "      <td>0</td>\n",
              "      <td>1985</td>\n",
              "      <td>0</td>\n",
              "      <td>98023</td>\n",
              "      <td>47.3187</td>\n",
              "      <td>-122.390</td>\n",
              "      <td>1790</td>\n",
              "      <td>7488</td>\n",
              "      <td>258950.0</td>\n",
              "    </tr>\n",
              "    <tr>\n",
              "      <th>4</th>\n",
              "      <td>7522500005</td>\n",
              "      <td>20140815T000000</td>\n",
              "      <td>2</td>\n",
              "      <td>1.50</td>\n",
              "      <td>1780</td>\n",
              "      <td>4750</td>\n",
              "      <td>1.0</td>\n",
              "      <td>0</td>\n",
              "      <td>0</td>\n",
              "      <td>4</td>\n",
              "      <td>...</td>\n",
              "      <td>1080</td>\n",
              "      <td>700</td>\n",
              "      <td>1947</td>\n",
              "      <td>0</td>\n",
              "      <td>98117</td>\n",
              "      <td>47.6859</td>\n",
              "      <td>-122.395</td>\n",
              "      <td>1690</td>\n",
              "      <td>5962</td>\n",
              "      <td>555000.0</td>\n",
              "    </tr>\n",
              "  </tbody>\n",
              "</table>\n",
              "<p>5 rows × 21 columns</p>\n",
              "</div>\n",
              "      <button class=\"colab-df-convert\" onclick=\"convertToInteractive('df-7e4e2cb4-688e-4d09-a2db-c85d8fef393f')\"\n",
              "              title=\"Convert this dataframe to an interactive table.\"\n",
              "              style=\"display:none;\">\n",
              "        \n",
              "  <svg xmlns=\"http://www.w3.org/2000/svg\" height=\"24px\"viewBox=\"0 0 24 24\"\n",
              "       width=\"24px\">\n",
              "    <path d=\"M0 0h24v24H0V0z\" fill=\"none\"/>\n",
              "    <path d=\"M18.56 5.44l.94 2.06.94-2.06 2.06-.94-2.06-.94-.94-2.06-.94 2.06-2.06.94zm-11 1L8.5 8.5l.94-2.06 2.06-.94-2.06-.94L8.5 2.5l-.94 2.06-2.06.94zm10 10l.94 2.06.94-2.06 2.06-.94-2.06-.94-.94-2.06-.94 2.06-2.06.94z\"/><path d=\"M17.41 7.96l-1.37-1.37c-.4-.4-.92-.59-1.43-.59-.52 0-1.04.2-1.43.59L10.3 9.45l-7.72 7.72c-.78.78-.78 2.05 0 2.83L4 21.41c.39.39.9.59 1.41.59.51 0 1.02-.2 1.41-.59l7.78-7.78 2.81-2.81c.8-.78.8-2.07 0-2.86zM5.41 20L4 18.59l7.72-7.72 1.47 1.35L5.41 20z\"/>\n",
              "  </svg>\n",
              "      </button>\n",
              "      \n",
              "  <style>\n",
              "    .colab-df-container {\n",
              "      display:flex;\n",
              "      flex-wrap:wrap;\n",
              "      gap: 12px;\n",
              "    }\n",
              "\n",
              "    .colab-df-convert {\n",
              "      background-color: #E8F0FE;\n",
              "      border: none;\n",
              "      border-radius: 50%;\n",
              "      cursor: pointer;\n",
              "      display: none;\n",
              "      fill: #1967D2;\n",
              "      height: 32px;\n",
              "      padding: 0 0 0 0;\n",
              "      width: 32px;\n",
              "    }\n",
              "\n",
              "    .colab-df-convert:hover {\n",
              "      background-color: #E2EBFA;\n",
              "      box-shadow: 0px 1px 2px rgba(60, 64, 67, 0.3), 0px 1px 3px 1px rgba(60, 64, 67, 0.15);\n",
              "      fill: #174EA6;\n",
              "    }\n",
              "\n",
              "    [theme=dark] .colab-df-convert {\n",
              "      background-color: #3B4455;\n",
              "      fill: #D2E3FC;\n",
              "    }\n",
              "\n",
              "    [theme=dark] .colab-df-convert:hover {\n",
              "      background-color: #434B5C;\n",
              "      box-shadow: 0px 1px 3px 1px rgba(0, 0, 0, 0.15);\n",
              "      filter: drop-shadow(0px 1px 2px rgba(0, 0, 0, 0.3));\n",
              "      fill: #FFFFFF;\n",
              "    }\n",
              "  </style>\n",
              "\n",
              "      <script>\n",
              "        const buttonEl =\n",
              "          document.querySelector('#df-7e4e2cb4-688e-4d09-a2db-c85d8fef393f button.colab-df-convert');\n",
              "        buttonEl.style.display =\n",
              "          google.colab.kernel.accessAllowed ? 'block' : 'none';\n",
              "\n",
              "        async function convertToInteractive(key) {\n",
              "          const element = document.querySelector('#df-7e4e2cb4-688e-4d09-a2db-c85d8fef393f');\n",
              "          const dataTable =\n",
              "            await google.colab.kernel.invokeFunction('convertToInteractive',\n",
              "                                                     [key], {});\n",
              "          if (!dataTable) return;\n",
              "\n",
              "          const docLinkHtml = 'Like what you see? Visit the ' +\n",
              "            '<a target=\"_blank\" href=https://colab.research.google.com/notebooks/data_table.ipynb>data table notebook</a>'\n",
              "            + ' to learn more about interactive tables.';\n",
              "          element.innerHTML = '';\n",
              "          dataTable['output_type'] = 'display_data';\n",
              "          await google.colab.output.renderOutput(dataTable, element);\n",
              "          const docLink = document.createElement('div');\n",
              "          docLink.innerHTML = docLinkHtml;\n",
              "          element.appendChild(docLink);\n",
              "        }\n",
              "      </script>\n",
              "    </div>\n",
              "  </div>\n",
              "  "
            ]
          },
          "metadata": {},
          "execution_count": 26
        }
      ]
    },
    {
      "cell_type": "code",
      "source": [
        "def getHighEnd(view, waterfront, condition):\n",
        "  multiplier = 5\n",
        "  if waterfront == 1:\n",
        "    multiplier = 1\n",
        "\n",
        "  return (view + 1) * (condition + 1) * multiplier\n",
        "  \n",
        "# Preprocessing\n",
        "def preprocessing(data: pd.DataFrame):\n",
        "  data = pd.get_dummies(data, columns=['zipcode'])\n",
        "  data['sqft_lot_per_15'] = data['sqft_lot'] / data['sqft_lot15']\n",
        "  data['high_end'] = data.apply(lambda x: getHighEnd(x['view'], x['waterfront'], x['condition']), axis=1)\n",
        "  data['view_bool'] = data['view'].apply(lambda x: True if x >= 1 else False)\n",
        "\n",
        "  return data\n",
        "\n",
        "data= preprocessing(data)\n",
        "\n",
        "if test_mini:\n",
        "  mini_data = preprocessing(mini_data)\n",
        "  left, right = data.align(mini_data, axis=1)\n",
        "  mini_data = right"
      ],
      "metadata": {
        "id": "NRI8er7Cpq4Q"
      },
      "execution_count": null,
      "outputs": []
    },
    {
      "cell_type": "code",
      "source": [
        "# Get basic stats on the data\n",
        "mean_price = data['price'].mean()\n",
        "median_price = data['price'].median() "
      ],
      "metadata": {
        "id": "_xoT5d8UVXj4"
      },
      "execution_count": null,
      "outputs": []
    },
    {
      "cell_type": "code",
      "source": [
        "# Set X and y\n",
        "all_features = [f for f in data if f != 'price' if f != 'date' if f != 'id' if f != 'zipcode' \n",
        "                if f != 'bathrooms' if f != 'view' if f != 'sqft_basement' if f != 'sqft_above']\n",
        "X = data[all_features]\n",
        "#X = data[['bedrooms', 'bathrooms', 'floors', 'yr_built', 'zipcode', 'sq_foot']]\n",
        "y = data['price']\n",
        "\n",
        "X_train, X_test, y_train, y_test = train_test_split(X, y, test_size=0.3, random_state=42)"
      ],
      "metadata": {
        "id": "rgS3_dGQUK_V"
      },
      "execution_count": null,
      "outputs": []
    },
    {
      "cell_type": "code",
      "source": [
        "# Create the model, train it, predictions\n",
        "model = XGBRegressor(\n",
        "    n_estimators= 150, # Default is 100\n",
        "    learning_rate= .15, # default = .1\n",
        "    grow_policy='lossguide', # Options are 'depthwise' and 'lossguide'\n",
        "    tree_method = 'auto', # Options are 'approx', 'auto', 'exact', 'gpu_exact', 'gpu_hist', 'hist'\n",
        ")\n",
        "model.fit(X_train, y_train)\n",
        "\n",
        "predictions = model.predict(X_test)"
      ],
      "metadata": {
        "id": "KI6lR8u8UYCi",
        "colab": {
          "base_uri": "https://localhost:8080/"
        },
        "outputId": "8f4ac65d-8e31-4589-9c20-44ffe6296b3d"
      },
      "execution_count": null,
      "outputs": [
        {
          "output_type": "stream",
          "name": "stdout",
          "text": [
            "[23:17:58] WARNING: /workspace/src/objective/regression_obj.cu:152: reg:linear is now deprecated in favor of reg:squarederror.\n"
          ]
        }
      ]
    },
    {
      "cell_type": "code",
      "source": [
        "if test_mini:\n",
        "  miniX = mini_data[all_features]\n",
        "  miniPredictions = model.predict(miniX)\n",
        "  \n",
        "  # place predictions in a dataframe\n",
        "  miniResults = pd.DataFrame(miniPredictions, columns = ['price'])\n",
        "  miniResults = miniResults.rename(columns={'price':'dataset'})\n",
        "\n",
        "  miniResults.to_csv(\"team2-module3-predictions.csv\", index=False)\n",
        "  print('Exported Mini to CSV')"
      ],
      "metadata": {
        "colab": {
          "base_uri": "https://localhost:8080/"
        },
        "id": "J0i-KVeMp7ZJ",
        "outputId": "67d44c88-2a7c-4c8a-e60f-d07ec921fc0d"
      },
      "execution_count": null,
      "outputs": [
        {
          "output_type": "stream",
          "name": "stdout",
          "text": [
            "Exported Mini to CSV\n"
          ]
        }
      ]
    },
    {
      "cell_type": "markdown",
      "source": [
        "# METRICS #"
      ],
      "metadata": {
        "id": "8JZIi5Y1VAyb"
      }
    },
    {
      "cell_type": "code",
      "source": [
        "# Compute the Root Mean Squared Error of the predictions\n",
        "from sklearn.metrics import mean_squared_error\n",
        "from sklearn.metrics import r2_score\n",
        "\n",
        "rmse = mean_squared_error(y_test, predictions, squared=False)\n",
        "r2 = r2_score(y_test, predictions)\n",
        "\n",
        "print(f'Root Mean Squared Error: ${round(rmse, 2):,}')\n",
        "print(f'Averge Price of House:   ${round(mean_price, 2):,}')\n",
        "print(f'Median Price of House:   ${round(median_price, 2):,}')\n",
        "print(f'R2 Score:                {round(r2, 2)}')"
      ],
      "metadata": {
        "colab": {
          "base_uri": "https://localhost:8080/"
        },
        "id": "d9NtIl8FVD9g",
        "outputId": "9f05aaed-7fbb-445c-c941-4f2288da24ab"
      },
      "execution_count": null,
      "outputs": [
        {
          "output_type": "stream",
          "name": "stdout",
          "text": [
            "Root Mean Squared Error: $130,851.79\n",
            "Averge Price of House:   $539,436.71\n",
            "Median Price of House:   $450,000.0\n",
            "R2 Score:                0.89\n"
          ]
        }
      ]
    }
  ]
}