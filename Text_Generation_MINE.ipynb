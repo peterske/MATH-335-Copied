{
  "cells": [
    {
      "cell_type": "markdown",
      "metadata": {
        "id": "view-in-github",
        "colab_type": "text"
      },
      "source": [
        "<a href=\"https://colab.research.google.com/github/peterske/MATH-335-Copied/blob/main/Text_Generation_MINE.ipynb\" target=\"_parent\"><img src=\"https://colab.research.google.com/assets/colab-badge.svg\" alt=\"Open In Colab\"/></a>"
      ]
    },
    {
      "cell_type": "code",
      "execution_count": null,
      "metadata": {
        "id": "XtiXE04uGB_U"
      },
      "outputs": [],
      "source": [
        "# Import libraries\n",
        "import tensorflow as tf\n",
        "from tensorflow.keras.layers.experimental import preprocessing\n",
        "\n",
        "import numpy as np\n",
        "import os\n",
        "import time"
      ]
    },
    {
      "cell_type": "markdown",
      "metadata": {
        "id": "qv4r-dKnSRKz"
      },
      "source": [
        "## I. Parse Text Sources\n",
        "First we'll load our text sources and create our vocabulary lists and encoders. \n",
        "\n",
        "There are ways we could do this in pure python, but using the tensorflow data structures and libraries allow us to keep things super-optimized."
      ]
    },
    {
      "cell_type": "code",
      "execution_count": null,
      "metadata": {
        "colab": {
          "base_uri": "https://localhost:8080/"
        },
        "id": "H8RbnIjwHGoR",
        "outputId": "395bf45a-512c-471d-99a7-1dd6f6571f58"
      },
      "outputs": [
        {
          "output_type": "stream",
          "name": "stdout",
          "text": [
            "Downloading data from file:///content/training.txt\n",
            "2549535/2549535 [==============================] - 0s 0us/step\n",
            "Length of text: 2549535 characters\n"
          ]
        }
      ],
      "source": [
        "# Load file data\n",
        "#path_to_file = tf.keras.utils.get_file('beowulf.txt', '/content/Beowulf.txt/')\n",
        "path_to_file = tf.keras.utils.get_file('training', 'file:///content/training.txt')\n",
        "text = open(path_to_file, 'rb').read().decode(encoding='utf-8')\n",
        "print('Length of text: {} characters'.format(len(text)))"
      ]
    },
    {
      "cell_type": "code",
      "execution_count": null,
      "metadata": {
        "colab": {
          "base_uri": "https://localhost:8080/"
        },
        "id": "2XRnt0XUHUrq",
        "outputId": "d5372c0e-4f07-4f89-f957-019f1a3bcacc"
      },
      "outputs": [
        {
          "output_type": "stream",
          "name": "stdout",
          "text": [
            "Hrothgar, king of the Danes, or Scyldings, builds a great meadhall, orpalace, in which he hopes to feast his liegemen and to give them presents.The joy of king and retainers is, however, of short dura\n"
          ]
        }
      ],
      "source": [
        "# Verify the first part of our data\n",
        "print(text[:200])"
      ]
    },
    {
      "cell_type": "code",
      "execution_count": null,
      "metadata": {
        "colab": {
          "base_uri": "https://localhost:8080/"
        },
        "id": "2SLd7l0HP1Po",
        "outputId": "e01f6952-71db-4c58-af09-77fb5e9edb6c"
      },
      "outputs": [
        {
          "output_type": "stream",
          "name": "stdout",
          "text": [
            "60 unique characters\n",
            "[' ', '!', '\"', \"'\", ',', '.', ':', '?', 'A', 'B', 'C', 'D', 'E', 'F', 'G', 'H', 'I', 'J', 'K', 'L', 'M', 'N', 'O', 'P', 'Q', 'R', 'S', 'T', 'U', 'V', 'W', 'X', 'Y', 'Z', 'a', 'b', 'c', 'd', 'e', 'f', 'g', 'h', 'i', 'j', 'k', 'l', 'm', 'n', 'o', 'p', 'q', 'r', 's', 't', 'u', 'v', 'w', 'x', 'y', 'z']\n"
          ]
        }
      ],
      "source": [
        "# Now we'll get a list of the unique characters in the file. This will form the\n",
        "# vocabulary of our network. There may be some characters we want to remove from this \n",
        "# set as we refine the network.\n",
        "vocab = sorted(set(text))\n",
        "print('{} unique characters'.format(len(vocab)))\n",
        "print(vocab)"
      ]
    },
    {
      "cell_type": "code",
      "execution_count": null,
      "metadata": {
        "id": "NtjOxL7wQibb"
      },
      "outputs": [],
      "source": [
        "# Next, we'll encode encode these characters into numbers so we can use them\n",
        "# with our neural network, then we'll create some mappings between the characters\n",
        "# and their numeric representations\n",
        "ids_from_chars = preprocessing.StringLookup(vocabulary=list(vocab))\n",
        "chars_from_ids = tf.keras.layers.experimental.preprocessing.StringLookup(vocabulary=ids_from_chars.get_vocabulary(), invert=True)\n",
        "\n",
        "# Here's a little helper function that we can use to turn a sequence of ids\n",
        "# back into a string:\n",
        "# turn them into a string:\n",
        "def text_from_ids(ids):\n",
        "  joinedTensor = tf.strings.reduce_join(chars_from_ids(ids), axis=-1)\n",
        "  return joinedTensor.numpy().decode(\"utf-8\")"
      ]
    },
    {
      "cell_type": "code",
      "execution_count": null,
      "metadata": {
        "colab": {
          "base_uri": "https://localhost:8080/"
        },
        "id": "52bkemreRw8q",
        "outputId": "7a7b1677-9efc-43bc-d5be-9537d046aabd"
      },
      "outputs": [
        {
          "output_type": "execute_result",
          "data": {
            "text/plain": [
              "<tf.Tensor: shape=(5,), dtype=int64, numpy=array([28, 52, 55, 54, 42])>"
            ]
          },
          "metadata": {},
          "execution_count": 8
        }
      ],
      "source": [
        "# Now we'll verify that they work, by getting the code for \"A\", and then looking\n",
        "# that up in reverse\n",
        "testids = ids_from_chars([\"T\", \"r\", \"u\", \"t\", \"h\"])\n",
        "testids"
      ]
    },
    {
      "cell_type": "code",
      "execution_count": null,
      "metadata": {
        "colab": {
          "base_uri": "https://localhost:8080/"
        },
        "id": "vGUnSHjtD_IJ",
        "outputId": "0ae963ae-786d-4e15-bc45-99696bc9af77"
      },
      "outputs": [
        {
          "output_type": "execute_result",
          "data": {
            "text/plain": [
              "<tf.Tensor: shape=(5,), dtype=string, numpy=array([b'T', b'r', b'u', b't', b'h'], dtype=object)>"
            ]
          },
          "metadata": {},
          "execution_count": 9
        }
      ],
      "source": [
        "chars_from_ids(testids)"
      ]
    },
    {
      "cell_type": "code",
      "execution_count": null,
      "metadata": {
        "colab": {
          "base_uri": "https://localhost:8080/",
          "height": 35
        },
        "id": "8rghkpLLLjL5",
        "outputId": "b0a37cff-fbd9-4788-cace-f59eadac0975"
      },
      "outputs": [
        {
          "output_type": "execute_result",
          "data": {
            "text/plain": [
              "'Truth'"
            ],
            "application/vnd.google.colaboratory.intrinsic+json": {
              "type": "string"
            }
          },
          "metadata": {},
          "execution_count": 10
        }
      ],
      "source": [
        "testString = text_from_ids( testids )\n",
        "testString"
      ]
    },
    {
      "cell_type": "markdown",
      "metadata": {
        "id": "MRXMVqTcSpA0"
      },
      "source": [
        "## II. Construct our training data\n",
        "Next we need to construct our training data by building sentence chunks. Each chunk will consist of a sequence of characters and a corresponding \"next sequence\" of the same length showing what would happen if we move forward in the text. This \"next sequence\" becomes our target variable.\n",
        "\n",
        "For example, if this were our text:\n",
        "\n",
        "> It is a truth universally acknowledged, that a single man in possession\n",
        "of a good fortune, must be in want of a wife.\n",
        "\n",
        "And our sequence length was 10 with a step size of 1, our first chunk would be:\n",
        "\n",
        "* Sequence: `It is a tr`\n",
        "* Next Sequence: `t is a tru`\n",
        "\n",
        "Our second chunk would be:\n",
        "\n",
        "* Sequence: `t is a tru`\n",
        "* Next Word: ` is a trut`\n",
        "\n"
      ]
    },
    {
      "cell_type": "code",
      "execution_count": null,
      "metadata": {
        "colab": {
          "base_uri": "https://localhost:8080/"
        },
        "id": "5PLJWOg2P_fE",
        "outputId": "e10bac08-dca8-4cf7-cb51-0fcadc6b8f98"
      },
      "outputs": [
        {
          "output_type": "execute_result",
          "data": {
            "text/plain": [
              "<tf.Tensor: shape=(2549535,), dtype=int64, numpy=array([16, 52, 49, ..., 55, 53, 39])>"
            ]
          },
          "metadata": {},
          "execution_count": 11
        }
      ],
      "source": [
        "# First, create a stream of encoded integers from our text\n",
        "all_ids = ids_from_chars(tf.strings.unicode_split(text, 'UTF-8'))\n",
        "all_ids"
      ]
    },
    {
      "cell_type": "code",
      "execution_count": null,
      "metadata": {
        "id": "-nBqVY6pFpZs"
      },
      "outputs": [],
      "source": [
        "# Now, convert that into a tensorflow dataset\n",
        "ids_dataset = tf.data.Dataset.from_tensor_slices(all_ids)"
      ]
    },
    {
      "cell_type": "code",
      "execution_count": null,
      "metadata": {
        "id": "8Fr28CJxUBtG"
      },
      "outputs": [],
      "source": [
        "# Finally, let's batch these sequences up into chunks for our training\n",
        "seq_length = 100\n",
        "sequences = ids_dataset.batch(seq_length+1, drop_remainder=True)\n",
        "\n",
        "# This function will generate our sequence pairs:\n",
        "def split_input_target(sequence):\n",
        "    input_text = sequence[:-1]\n",
        "    target_text = sequence[1:]\n",
        "    return input_text, target_text\n",
        "\n",
        "# Call the function for every sequence in our list to create a new dataset\n",
        "# of input->target pairs\n",
        "dataset = sequences.map(split_input_target)"
      ]
    },
    {
      "cell_type": "code",
      "execution_count": null,
      "metadata": {
        "colab": {
          "base_uri": "https://localhost:8080/"
        },
        "id": "poNVukmsUFkq",
        "outputId": "740a532c-e7e3-41da-ceb9-7299f8f7faae"
      },
      "outputs": [
        {
          "output_type": "stream",
          "name": "stdout",
          "text": [
            "Input:  Hrothgar, king of the Danes, or Scyldings, builds a great meadhall, orpalace, in which he hopes to f\n",
            "--------\n",
            "Target:  rothgar, king of the Danes, or Scyldings, builds a great meadhall, orpalace, in which he hopes to fe\n"
          ]
        }
      ],
      "source": [
        "# Verify our sequences\n",
        "for input_example, target_example in  dataset.take(1):\n",
        "    print(\"Input: \", text_from_ids(input_example))\n",
        "    print(\"--------\")\n",
        "    print(\"Target: \", text_from_ids(target_example))"
      ]
    },
    {
      "cell_type": "code",
      "execution_count": null,
      "metadata": {
        "colab": {
          "base_uri": "https://localhost:8080/"
        },
        "id": "QDdr6xfZYa0o",
        "outputId": "6511ea5f-2ddc-46f6-cd3b-ed1f2674d2b1"
      },
      "outputs": [
        {
          "output_type": "execute_result",
          "data": {
            "text/plain": [
              "<PrefetchDataset element_spec=(TensorSpec(shape=(64, 100), dtype=tf.int64, name=None), TensorSpec(shape=(64, 100), dtype=tf.int64, name=None))>"
            ]
          },
          "metadata": {},
          "execution_count": 15
        }
      ],
      "source": [
        "# Finally, we'll randomize the sequences so that we don't just memorize the books\n",
        "# in the order they were written, then build a new streaming dataset from that.\n",
        "# Using a streaming dataset allows us to pass the data to our network bit by bit,\n",
        "# rather than keeping it all in memory. We'll set it to figure out how much data\n",
        "# to prefetch in the background.\n",
        "\n",
        "BATCH_SIZE = 64\n",
        "BUFFER_SIZE = 10000\n",
        "\n",
        "dataset = (\n",
        "    dataset\n",
        "    .shuffle(BUFFER_SIZE)\n",
        "    .batch(BATCH_SIZE, drop_remainder=True)\n",
        "    .prefetch(tf.data.experimental.AUTOTUNE))\n",
        "\n",
        "dataset"
      ]
    },
    {
      "cell_type": "markdown",
      "metadata": {
        "id": "0VQ-KjEeZMzd"
      },
      "source": [
        "## III. Build the model\n",
        "\n",
        "Next, we'll build our model. Up until this point, you've been using the Keras symbolic, or imperative API for creating your models. Doing something like:\n",
        "\n",
        "    model = tf.keras.models.Sequentla()\n",
        "    model.add(tf.keras.layers.Dense(80, activation='relu))\n",
        "    etc...\n",
        "\n",
        "However, tensorflow has another way to build models called the Functional API, which gives us a lot more control over what happens inside the model. You can read more about [the differences and when to use each here](https://blog.tensorflow.org/2019/01/what-are-symbolic-and-imperative-apis.html).\n",
        "\n",
        "We'll use the functional API for our RNN in this example. This will involve defining our model as a custom subclass of `tf.keras.Model`.\n",
        "\n",
        "If you're not familiar with classes in python, you might want to review [this quick tutorial](https://www.w3schools.com/python/python_classes.asp), as well as [this one on class inheritance](https://www.w3schools.com/python/python_inheritance.asp).\n",
        "\n",
        "Using a functional model is important for our situation because we're not just training it to predict a single character for a single sequence, but as we make predictions with it, we need it to remember those predictions as use that memory as it makes new predictions.\n"
      ]
    },
    {
      "cell_type": "code",
      "execution_count": null,
      "metadata": {
        "id": "Fj4uh9y-Y9mx"
      },
      "outputs": [],
      "source": [
        "# Create our custom model. Given a sequence of characters, this\n",
        "# model's job is to predict what character should come next.\n",
        "class AustenTextModel(tf.keras.Model):\n",
        "\n",
        "  # This is our class constructor method, it will be executed when\n",
        "  # we first create an instance of the class \n",
        "  def __init__(self, vocab_size, embedding_dim, rnn_units):\n",
        "    super().__init__(self)\n",
        "\n",
        "    # Our model will have three layers:\n",
        "    \n",
        "    # 1. An embedding layer that handles the encoding of our vocabulary into\n",
        "    #    a vector of values suitable for a neural network\n",
        "    self.embedding = tf.keras.layers.Embedding(vocab_size, embedding_dim)\n",
        "\n",
        "    # 2. A GRU layer that handles the \"memory\" aspects of our RNN. If you're\n",
        "    #    wondering why we use GRU instead of LSTM, and whether LSTM is better,\n",
        "    #    take a look at this article: https://datascience.stackexchange.com/questions/14581/when-to-use-gru-over-lstm\n",
        "    #    then consider trying out LSTM instead (or in addition to!)\n",
        "    self.gru = tf.keras.layers.GRU(rnn_units, return_sequences=True, return_state=True)\n",
        "\n",
        "    # 3. Our output layer that will give us a set of probabilities for each\n",
        "    #    character in our vocabulary.\n",
        "    self.dense = tf.keras.layers.Dense(vocab_size)\n",
        "\n",
        "  # This function will be executed for each epoch of our training. Here\n",
        "  # we will manually feed information from one layer of our network to the \n",
        "  # next.\n",
        "  def call(self, inputs, states=None, return_state=False, training=False):\n",
        "    x = inputs\n",
        "\n",
        "    # 1. Feed the inputs into the embedding layer, and tell it if we are\n",
        "    #    training or predicting\n",
        "    x = self.embedding(x, training=training)\n",
        "\n",
        "    # 2. If we don't have any state in memory yet, get the initial random state\n",
        "    #    from our GRUI layer.\n",
        "    if states is None:\n",
        "      states = self.gru.get_initial_state(x)\n",
        "    \n",
        "    # 3. Now, feed the vectorized input along with the current state of memory\n",
        "    #    into the gru layer.\n",
        "    x, states = self.gru(x, initial_state=states, training=training)\n",
        "\n",
        "    # 4. Finally, pass the results on to the dense layer\n",
        "    x = self.dense(x, training=training)\n",
        "\n",
        "    # 5. Return the results\n",
        "    if return_state:\n",
        "      return x, states\n",
        "    else: \n",
        "      return x"
      ]
    },
    {
      "cell_type": "code",
      "execution_count": null,
      "metadata": {
        "id": "UA2C6pxZc4De"
      },
      "outputs": [],
      "source": [
        "# Create an instance of our model\n",
        "vocab_size=len(ids_from_chars.get_vocabulary())\n",
        "embedding_dim = 256\n",
        "rnn_units = 1024\n",
        "\n",
        "model = AustenTextModel(vocab_size, embedding_dim, rnn_units)"
      ]
    },
    {
      "cell_type": "code",
      "execution_count": null,
      "metadata": {
        "colab": {
          "base_uri": "https://localhost:8080/"
        },
        "id": "C67kN7YAdfSf",
        "outputId": "f378e277-86fb-4fe2-ad75-d62229316954"
      },
      "outputs": [
        {
          "output_type": "stream",
          "name": "stdout",
          "text": [
            "(64, 100, 61) # (batch_size, sequence_length, vocab_size)\n"
          ]
        }
      ],
      "source": [
        "# Verify the output of our model is correct by running one sample through\n",
        "# This will also compile the model for us. This step will take a bit.\n",
        "for input_example_batch, target_example_batch in dataset.take(1):\n",
        "    example_batch_predictions = model(input_example_batch)\n",
        "    print(example_batch_predictions.shape, \"# (batch_size, sequence_length, vocab_size)\")\n"
      ]
    },
    {
      "cell_type": "code",
      "execution_count": null,
      "metadata": {
        "colab": {
          "base_uri": "https://localhost:8080/"
        },
        "id": "qJGL8gCWdsiu",
        "outputId": "1ef8df2c-f37e-4fe7-dced-ddf1c86bd792"
      },
      "outputs": [
        {
          "output_type": "stream",
          "name": "stdout",
          "text": [
            "Model: \"austen_text_model\"\n",
            "_________________________________________________________________\n",
            " Layer (type)                Output Shape              Param #   \n",
            "=================================================================\n",
            " embedding (Embedding)       multiple                  15616     \n",
            "                                                                 \n",
            " gru (GRU)                   multiple                  3938304   \n",
            "                                                                 \n",
            " dense (Dense)               multiple                  62525     \n",
            "                                                                 \n",
            "=================================================================\n",
            "Total params: 4,016,445\n",
            "Trainable params: 4,016,445\n",
            "Non-trainable params: 0\n",
            "_________________________________________________________________\n"
          ]
        }
      ],
      "source": [
        "# Now let's view the model summary\n",
        "model.summary()"
      ]
    },
    {
      "cell_type": "markdown",
      "metadata": {
        "id": "wTDe5m4baEqo"
      },
      "source": [
        "## IV. Train the model\n",
        "\n",
        "For our purposes, we'll be using [categorical cross entropy](https://machinelearningmastery.com/cross-entropy-for-machine-learning/) as our loss function*. Also, our model will be outputting [\"logits\" rather than normalized probabilities](https://stackoverflow.com/questions/41455101/what-is-the-meaning-of-the-word-logits-in-tensorflow), because we'll be doing further transformations on the output later. \n",
        "\n",
        "\n",
        "\\* Note that since our model deals with integer encoding rather than one-hot encoding, we'll specifically be using [sparse categorical cross entropy](https://stats.stackexchange.com/questions/326065/cross-entropy-vs-sparse-cross-entropy-when-to-use-one-over-the-other)."
      ]
    },
    {
      "cell_type": "code",
      "execution_count": null,
      "metadata": {
        "colab": {
          "base_uri": "https://localhost:8080/"
        },
        "id": "7vOxc7CkaGQB",
        "outputId": "416f3d1d-ddec-434e-86c6-e0b29c2403b9"
      },
      "outputs": [
        {
          "output_type": "stream",
          "name": "stdout",
          "text": [
            "Epoch 1/75\n",
            "394/394 [==============================] - 26s 52ms/step - loss: 2.2964\n",
            "Epoch 2/75\n",
            "394/394 [==============================] - 22s 51ms/step - loss: 1.6101\n",
            "Epoch 3/75\n",
            "394/394 [==============================] - 22s 53ms/step - loss: 1.3944\n",
            "Epoch 4/75\n",
            "394/394 [==============================] - 23s 54ms/step - loss: 1.2880\n",
            "Epoch 5/75\n",
            "394/394 [==============================] - 24s 55ms/step - loss: 1.2197\n",
            "Epoch 6/75\n",
            "394/394 [==============================] - 24s 55ms/step - loss: 1.1671\n",
            "Epoch 7/75\n",
            "394/394 [==============================] - 23s 54ms/step - loss: 1.1212\n",
            "Epoch 8/75\n",
            "394/394 [==============================] - 24s 56ms/step - loss: 1.0802\n",
            "Epoch 9/75\n",
            "394/394 [==============================] - 23s 54ms/step - loss: 1.0400\n",
            "Epoch 10/75\n",
            "394/394 [==============================] - 24s 56ms/step - loss: 1.0025\n",
            "Epoch 11/75\n",
            "394/394 [==============================] - 23s 55ms/step - loss: 0.9671\n",
            "Epoch 12/75\n",
            "394/394 [==============================] - 23s 54ms/step - loss: 0.9342\n",
            "Epoch 13/75\n",
            "394/394 [==============================] - 23s 55ms/step - loss: 0.9048\n",
            "Epoch 14/75\n",
            "394/394 [==============================] - 24s 55ms/step - loss: 0.8776\n",
            "Epoch 15/75\n",
            "394/394 [==============================] - 23s 54ms/step - loss: 0.8540\n",
            "Epoch 16/75\n",
            "394/394 [==============================] - 24s 56ms/step - loss: 0.8355\n",
            "Epoch 17/75\n",
            "394/394 [==============================] - 23s 55ms/step - loss: 0.8194\n",
            "Epoch 18/75\n",
            "394/394 [==============================] - 23s 54ms/step - loss: 0.8048\n",
            "Epoch 19/75\n",
            "394/394 [==============================] - 23s 55ms/step - loss: 0.7954\n",
            "Epoch 20/75\n",
            "394/394 [==============================] - 23s 55ms/step - loss: 0.7883\n",
            "Epoch 21/75\n",
            "394/394 [==============================] - 23s 54ms/step - loss: 0.7806\n",
            "Epoch 22/75\n",
            "394/394 [==============================] - 24s 56ms/step - loss: 0.7765\n",
            "Epoch 23/75\n",
            "394/394 [==============================] - 24s 54ms/step - loss: 0.7762\n",
            "Epoch 24/75\n",
            "394/394 [==============================] - 25s 56ms/step - loss: 0.7723\n",
            "Epoch 25/75\n",
            "394/394 [==============================] - 23s 54ms/step - loss: 0.7729\n",
            "Epoch 26/75\n",
            "394/394 [==============================] - 24s 56ms/step - loss: 0.7743\n",
            "Epoch 27/75\n",
            "394/394 [==============================] - 23s 55ms/step - loss: 0.7735\n",
            "Epoch 28/75\n",
            "394/394 [==============================] - 23s 54ms/step - loss: 0.7796\n",
            "Epoch 29/75\n",
            "394/394 [==============================] - 24s 56ms/step - loss: 0.7788\n",
            "Epoch 30/75\n",
            "394/394 [==============================] - 24s 54ms/step - loss: 0.7856\n",
            "Epoch 31/75\n",
            "394/394 [==============================] - 24s 56ms/step - loss: 0.7963\n",
            "Epoch 32/75\n",
            "394/394 [==============================] - 23s 55ms/step - loss: 0.7978\n",
            "Epoch 33/75\n",
            "394/394 [==============================] - 23s 54ms/step - loss: 0.8051\n",
            "Epoch 34/75\n",
            "394/394 [==============================] - 23s 55ms/step - loss: 0.8115\n",
            "Epoch 35/75\n",
            "394/394 [==============================] - 23s 55ms/step - loss: 0.8191\n",
            "Epoch 36/75\n",
            "394/394 [==============================] - 23s 54ms/step - loss: 0.8310\n",
            "Epoch 37/75\n",
            "394/394 [==============================] - 23s 55ms/step - loss: 0.8343\n",
            "Epoch 38/75\n",
            "394/394 [==============================] - 24s 55ms/step - loss: 0.8456\n",
            "Epoch 39/75\n",
            "394/394 [==============================] - 24s 55ms/step - loss: 0.8591\n",
            "Epoch 40/75\n",
            "394/394 [==============================] - 23s 55ms/step - loss: 0.8670\n",
            "Epoch 41/75\n",
            "394/394 [==============================] - 24s 55ms/step - loss: 0.8798\n",
            "Epoch 42/75\n",
            "394/394 [==============================] - 23s 55ms/step - loss: 0.8964\n",
            "Epoch 43/75\n",
            "394/394 [==============================] - 24s 56ms/step - loss: 0.9077\n",
            "Epoch 44/75\n",
            "394/394 [==============================] - 23s 54ms/step - loss: 0.9192\n",
            "Epoch 45/75\n",
            "394/394 [==============================] - 24s 54ms/step - loss: 0.9377\n",
            "Epoch 46/75\n",
            "394/394 [==============================] - 23s 55ms/step - loss: 0.9534\n",
            "Epoch 47/75\n",
            "394/394 [==============================] - 24s 55ms/step - loss: 0.9884\n",
            "Epoch 48/75\n",
            "394/394 [==============================] - 23s 55ms/step - loss: 1.0007\n",
            "Epoch 49/75\n",
            "394/394 [==============================] - 24s 56ms/step - loss: 1.0219\n",
            "Epoch 50/75\n",
            "394/394 [==============================] - 23s 54ms/step - loss: 1.0387\n",
            "Epoch 51/75\n",
            "394/394 [==============================] - 24s 56ms/step - loss: 1.0516\n",
            "Epoch 52/75\n",
            "394/394 [==============================] - 23s 55ms/step - loss: 1.0913\n",
            "Epoch 53/75\n",
            "394/394 [==============================] - 23s 54ms/step - loss: 1.1371\n",
            "Epoch 54/75\n",
            "394/394 [==============================] - 24s 56ms/step - loss: 1.1335\n",
            "Epoch 55/75\n",
            "394/394 [==============================] - 24s 55ms/step - loss: 1.1508\n",
            "Epoch 56/75\n",
            "394/394 [==============================] - 23s 55ms/step - loss: 1.1972\n",
            "Epoch 57/75\n",
            "394/394 [==============================] - 24s 56ms/step - loss: 1.2402\n",
            "Epoch 58/75\n",
            "394/394 [==============================] - 23s 55ms/step - loss: 1.3493\n",
            "Epoch 59/75\n",
            "394/394 [==============================] - 23s 54ms/step - loss: 1.4292\n",
            "Epoch 60/75\n",
            "394/394 [==============================] - 23s 55ms/step - loss: 1.8802\n",
            "Epoch 61/75\n",
            "394/394 [==============================] - 23s 55ms/step - loss: 1.9121\n",
            "Epoch 62/75\n",
            "394/394 [==============================] - 23s 54ms/step - loss: 1.8630\n",
            "Epoch 63/75\n",
            "394/394 [==============================] - 24s 56ms/step - loss: 1.8215\n",
            "Epoch 64/75\n",
            "394/394 [==============================] - 23s 54ms/step - loss: 1.7843\n",
            "Epoch 65/75\n",
            "394/394 [==============================] - 23s 54ms/step - loss: 1.7554\n",
            "Epoch 66/75\n",
            "394/394 [==============================] - 24s 56ms/step - loss: 1.7221\n",
            "Epoch 67/75\n",
            "394/394 [==============================] - 23s 55ms/step - loss: 1.6838\n",
            "Epoch 68/75\n",
            "394/394 [==============================] - 23s 54ms/step - loss: 1.6467\n",
            "Epoch 69/75\n",
            "394/394 [==============================] - 24s 54ms/step - loss: 1.6105\n",
            "Epoch 70/75\n",
            "394/394 [==============================] - 23s 55ms/step - loss: 1.5760\n",
            "Epoch 71/75\n",
            "394/394 [==============================] - 24s 56ms/step - loss: 1.5437\n",
            "Epoch 72/75\n",
            "394/394 [==============================] - 23s 54ms/step - loss: 1.5141\n",
            "Epoch 73/75\n",
            "394/394 [==============================] - 24s 56ms/step - loss: 1.4855\n",
            "Epoch 74/75\n",
            "394/394 [==============================] - 23s 54ms/step - loss: 1.4604\n",
            "Epoch 75/75\n",
            "394/394 [==============================] - 25s 56ms/step - loss: 1.4352\n"
          ]
        }
      ],
      "source": [
        "loss = tf.losses.SparseCategoricalCrossentropy(from_logits=True)\n",
        "model.compile(optimizer='adam', loss=loss)\n",
        "\n",
        "history = model.fit(dataset, epochs=50)"
      ]
    },
    {
      "cell_type": "markdown",
      "metadata": {
        "id": "casEwxrXcv4Y"
      },
      "source": [
        "## V. Use the model\n",
        "\n",
        "Now that our model has been trained, we can use it to generate text. As mentioned earlier, to do so we have to keep track of its internal state, or memory, so that we can use previous text predictions to inform later ones.\n",
        "\n",
        "However, with RNN generated text, if we always just pick the character with the highest probability, our model tends to get stuck in a loop. So instead we will create a probability distribution of characters for each step, and then sample from that distribution. We can add some variation to this using a paramter known as [\"temperature\"](https://cs.stackexchange.com/questions/79241/what-is-temperature-in-lstm-and-neural-networks-generally)."
      ]
    },
    {
      "cell_type": "code",
      "execution_count": null,
      "metadata": {
        "id": "V3lhlyfwcqIN"
      },
      "outputs": [],
      "source": [
        "# Here's the code we'll use to sample for us. It has some extra steps to apply\n",
        "# the temperature to the distribution, and to make sure we don't get empty\n",
        "# characters in our text. Most importantly, it will keep track of our model\n",
        "# state for us.\n",
        "\n",
        "class OneStep(tf.keras.Model):\n",
        "  def __init__(self, model, chars_from_ids, ids_from_chars, temperature=.75):\n",
        "    super().__init__()\n",
        "    self.temperature=temperature\n",
        "    self.model = model\n",
        "    self.chars_from_ids = chars_from_ids\n",
        "    self.ids_from_chars = ids_from_chars\n",
        "\n",
        "    # Create a mask to prevent \"\" or \"[UNK]\" from being generated.\n",
        "    skip_ids = self.ids_from_chars(['','[UNK]'])[:, None]\n",
        "    sparse_mask = tf.SparseTensor(\n",
        "        # Put a -inf at each bad index.\n",
        "        values=[-float('inf')]*len(skip_ids),\n",
        "        indices = skip_ids,\n",
        "        # Match the shape to the vocabulary\n",
        "        dense_shape=[len(ids_from_chars.get_vocabulary())]) \n",
        "    self.prediction_mask = tf.sparse.to_dense(sparse_mask,validate_indices=False)\n",
        "\n",
        "  @tf.function\n",
        "  def generate_one_step(self, inputs, states=None):\n",
        "    # Convert strings to token IDs.\n",
        "    input_chars = tf.strings.unicode_split(inputs, 'UTF-8')\n",
        "    input_ids = self.ids_from_chars(input_chars).to_tensor()\n",
        "\n",
        "    # Run the model.\n",
        "    # predicted_logits.shape is [batch, char, next_char_logits] \n",
        "    predicted_logits, states =  self.model(inputs=input_ids, states=states, \n",
        "                                          return_state=True)\n",
        "    # Only use the last prediction.\n",
        "    predicted_logits = predicted_logits[:, -1, :]\n",
        "    predicted_logits = predicted_logits/self.temperature\n",
        "    \n",
        "    # Apply the prediction mask: prevent \"\" or \"[UNK]\" from being generated.\n",
        "    predicted_logits = predicted_logits + self.prediction_mask\n",
        "\n",
        "    # Sample the output logits to generate token IDs.\n",
        "    predicted_ids = tf.random.categorical(predicted_logits, num_samples=1)\n",
        "    predicted_ids = tf.squeeze(predicted_ids, axis=-1)\n",
        "\n",
        "    # Return the characters and model state.\n",
        "    return chars_from_ids(predicted_ids), states\n"
      ]
    },
    {
      "cell_type": "code",
      "execution_count": null,
      "metadata": {
        "colab": {
          "base_uri": "https://localhost:8080/"
        },
        "id": "fSUghgUFc6ba",
        "outputId": "4f916396-7ab6-480e-918e-99264f0df45c"
      },
      "outputs": [
        {
          "output_type": "stream",
          "name": "stdout",
          "text": [
            "The world seemed like such a peaceful place until the magic tree was discovered in London erging.The first we will be America      in creshings the leadershwage fire over jobs will, about the same time the stude. He to shamilys pays,      With far of this country is the bed.          He was ask thy ships the inselces. He say:When he spring destroying any fields, the shores war to move their soul descendor on          The siries great he were but especially and to have a panes in companies from Justless country and from the American place for succeed by vengeance line shines, the courser place sight reduces of children on ever serve the deal better are above,The bleeding hurgled receive, and the saw the war, but, and I meds the war, Bernide Petore.The big sanctions the trade defence on in spirit is an exposs to love down thou before the economic of China,          And this is bends to this as the just fire.These things he stern deed soft year, the contributed by so the talking grace and place. Hought take the Now, and the coursers substonds fair tax all we  the country. We \n"
          ]
        }
      ],
      "source": [
        "# Create an instance of the character generator\n",
        "one_step_model = OneStep(model, chars_from_ids, ids_from_chars)\n",
        "\n",
        "# Now, let's generate a 1000 character chapter by giving our model \"Chapter 1\"\n",
        "# as its starting text\n",
        "states = None\n",
        "next_char = tf.constant(['The world seemed like such a peaceful place until the magic tree was discovered in London'])\n",
        "result = [next_char]\n",
        "\n",
        "for n in range(1000):\n",
        "  next_char, states = one_step_model.generate_one_step(next_char, states=states)\n",
        "  result.append(next_char)\n",
        "\n",
        "result = tf.strings.join(result)\n",
        "\n",
        "# Print the results formatted.\n",
        "print(result[0].numpy().decode('utf-8'))\n",
        "\n",
        "\n"
      ]
    },
    {
      "cell_type": "markdown",
      "source": [],
      "metadata": {
        "id": "lhWtEZ2ta4yz"
      }
    },
    {
      "cell_type": "markdown",
      "metadata": {
        "id": "b2Cudf3YoaKr"
      },
      "source": [
        "## VI. Next Steps\n",
        "\n",
        "This is a very simple model with one GRU layer and then an output layer. However, considering how simple it is and the fact that we are predicting outputs character by character, the text it produces is pretty amazing. Though it still has a long way to go before publication.\n",
        "\n",
        "There are many other RNN architectures you could try, such as adding additional hidden dense layers, replacing GRU with one or more LSTM layers, combining GRU and LSTM, etc...\n",
        "\n",
        "You could also experiment with better text cleanup to make sure odd punctuation doesn't appear, or finding longer texts to use. If you combine texts from two authors, what happens? Can you generate a Jane Austen stageplay by combining austen and shakespeare texts?\n",
        "\n",
        "Finally, there are a number of hyperparameters to tweak, such as temperature, epochs, batch size, sequence length, etc..."
      ]
    }
  ],
  "metadata": {
    "colab": {
      "provenance": [],
      "include_colab_link": true
    },
    "kernelspec": {
      "display_name": "Python 3",
      "name": "python3"
    },
    "gpuClass": "standard",
    "accelerator": "GPU"
  },
  "nbformat": 4,
  "nbformat_minor": 0
}